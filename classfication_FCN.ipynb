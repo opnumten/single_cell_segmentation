{
 "cells": [
  {
   "cell_type": "code",
   "execution_count": 11,
   "metadata": {
    "collapsed": true
   },
   "outputs": [],
   "source": [
    "import numpy as np\n",
    "import pandas as pd\n",
    "\n",
    "import sys\n",
    "import cv2\n",
    "#from skimage.io import imread, imread_collection\n",
    "from scipy import signal\n",
    "import scipy.misc\n",
    "from scipy.misc import imread\n",
    "from scipy.ndimage import filters,distance_transform_edt\n",
    "from matplotlib import pyplot as plt\n",
    "\n",
    "import os\n",
    "from os import listdir\n",
    "\n",
    "from keras.models import Model\n",
    "from keras import optimizers\n",
    "from keras.layers import Input,Activation,Conv2D, MaxPooling2D, UpSampling2D, BatchNormalization,Dropout"
   ]
  },
  {
   "cell_type": "code",
   "execution_count": 15,
   "metadata": {
    "collapsed": true
   },
   "outputs": [],
   "source": [
    "dir_path='/home/zoro/Desktop/nmumg_data'\n",
    "main_path=dir_path+'/train_test_data_cla'\n",
    "path_train_input = main_path+'/train/Img'\n",
    "path_test_input= main_path+'/test/Img'\n",
    "path_train_gt = main_path+'/train/BIB'\n",
    "path_test_gt=main_path+'/test/BIB'\n",
    "\n",
    "\n",
    "path_predict=dir_path+'/predict'\n",
    "path_output=dir_path+'/output'\n",
    "\n",
    "nb_epoch =300\n",
    "batch_size = 10\n",
    "weight_file='nmumg_thick_ep300.hdf5'\n",
    "\n",
    "n_labels =3"
   ]
  },
  {
   "cell_type": "code",
   "execution_count": 3,
   "metadata": {
    "collapsed": true
   },
   "outputs": [],
   "source": [
    "def label_map(labels,img_h,img_w):\n",
    "    label_map = np.zeros([img_h, img_w, n_labels])    \n",
    "    for r in range(img_h):\n",
    "        for c in range(img_w):\n",
    "            label_map[r, c, labels[r][c]] = 1\n",
    "    return label_map"
   ]
  },
  {
   "cell_type": "code",
   "execution_count": 4,
   "metadata": {
    "collapsed": true
   },
   "outputs": [],
   "source": [
    "def prep_data(path_img,path_gt):\n",
    "    data = []\n",
    "    label = []\n",
    "\n",
    "    img_list = sorted(listdir(path_img))\n",
    "    gt_list=sorted(listdir(path_gt))\n",
    "    i=0\n",
    "    while (i<len(img_list)):\n",
    "        img = np.array(imread(path_img +'/'+ img_list[i]),dtype=np.float64)\n",
    "        img=(img-np.amin(img))*1.0/(np.amax(img)-np.amin(img))#img*1.0 transform array to double\n",
    "        img=img*1.0/np.median(img)\n",
    "        img_h=img.shape[0]        \n",
    "        img_w=img.shape[1]\n",
    "                \n",
    "        img=np.reshape(img,(img_h,img_w,1))\n",
    "        #print img.shape \n",
    "        data.append(img)  \n",
    "        \n",
    "        gt =np.array(imread(path_gt + '/'+ gt_list[i]))\n",
    "        label.append(label_map(gt,img_h,img_w))\n",
    "        i+=1\n",
    "    data, label =np.array(data), np.array(label)\n",
    "    return data, label     "
   ]
  },
  {
   "cell_type": "code",
   "execution_count": 5,
   "metadata": {
    "collapsed": true
   },
   "outputs": [],
   "source": [
    "def prep_prediction_data(path_img):\n",
    "    data = []\n",
    "    img_list = sorted(listdir(path_img))\n",
    "    i=0\n",
    "    while (i<len(img_list)):\n",
    "        img = np.array(imread(path_img +'/'+ img_list[i]),dtype=np.float64)\n",
    "        img=(img-np.amin(img))*1.0/(np.amax(img)-np.amin(img))#img*1.0 transform array to double\n",
    "        img=img*1.0/np.median(img)\n",
    "        img_h=img.shape[0]        \n",
    "        img_w=img.shape[1]\n",
    "        img=np.reshape(img,(img_h,img_w,1))\n",
    "        data.append(img)\n",
    "        i+=1\n",
    "    data=np.array(data)\n",
    "    print(data.shape)\n",
    "    return data"
   ]
  },
  {
   "cell_type": "code",
   "execution_count": 7,
   "metadata": {
    "collapsed": true
   },
   "outputs": [],
   "source": [
    "def conv_block(input_tensor, kernel, filters):\n",
    "    x=Conv2D(filters, (kernel, kernel), padding='same')(input_tensor)\n",
    "    x=BatchNormalization()(x)\n",
    "    x=Activation('relu')(x)\n",
    "    return x"
   ]
  },
  {
   "cell_type": "code",
   "execution_count": 8,
   "metadata": {},
   "outputs": [
    {
     "name": "stdout",
     "output_type": "stream",
     "text": [
      "_________________________________________________________________\n",
      "Layer (type)                 Output Shape              Param #   \n",
      "=================================================================\n",
      "input_1 (InputLayer)         (None, None, None, 1)     0         \n",
      "_________________________________________________________________\n",
      "conv2d_1 (Conv2D)            (None, None, None, 64)    640       \n",
      "_________________________________________________________________\n",
      "batch_normalization_1 (Batch (None, None, None, 64)    256       \n",
      "_________________________________________________________________\n",
      "activation_1 (Activation)    (None, None, None, 64)    0         \n",
      "_________________________________________________________________\n",
      "conv2d_2 (Conv2D)            (None, None, None, 64)    36928     \n",
      "_________________________________________________________________\n",
      "batch_normalization_2 (Batch (None, None, None, 64)    256       \n",
      "_________________________________________________________________\n",
      "activation_2 (Activation)    (None, None, None, 64)    0         \n",
      "_________________________________________________________________\n",
      "max_pooling2d_1 (MaxPooling2 (None, None, None, 64)    0         \n",
      "_________________________________________________________________\n",
      "conv2d_3 (Conv2D)            (None, None, None, 128)   73856     \n",
      "_________________________________________________________________\n",
      "batch_normalization_3 (Batch (None, None, None, 128)   512       \n",
      "_________________________________________________________________\n",
      "activation_3 (Activation)    (None, None, None, 128)   0         \n",
      "_________________________________________________________________\n",
      "conv2d_4 (Conv2D)            (None, None, None, 128)   147584    \n",
      "_________________________________________________________________\n",
      "batch_normalization_4 (Batch (None, None, None, 128)   512       \n",
      "_________________________________________________________________\n",
      "activation_4 (Activation)    (None, None, None, 128)   0         \n",
      "_________________________________________________________________\n",
      "max_pooling2d_2 (MaxPooling2 (None, None, None, 128)   0         \n",
      "_________________________________________________________________\n",
      "conv2d_5 (Conv2D)            (None, None, None, 256)   295168    \n",
      "_________________________________________________________________\n",
      "batch_normalization_5 (Batch (None, None, None, 256)   1024      \n",
      "_________________________________________________________________\n",
      "activation_5 (Activation)    (None, None, None, 256)   0         \n",
      "_________________________________________________________________\n",
      "conv2d_6 (Conv2D)            (None, None, None, 256)   590080    \n",
      "_________________________________________________________________\n",
      "batch_normalization_6 (Batch (None, None, None, 256)   1024      \n",
      "_________________________________________________________________\n",
      "activation_6 (Activation)    (None, None, None, 256)   0         \n",
      "_________________________________________________________________\n",
      "conv2d_7 (Conv2D)            (None, None, None, 256)   590080    \n",
      "_________________________________________________________________\n",
      "batch_normalization_7 (Batch (None, None, None, 256)   1024      \n",
      "_________________________________________________________________\n",
      "activation_7 (Activation)    (None, None, None, 256)   0         \n",
      "_________________________________________________________________\n",
      "max_pooling2d_3 (MaxPooling2 (None, None, None, 256)   0         \n",
      "_________________________________________________________________\n",
      "conv2d_8 (Conv2D)            (None, None, None, 512)   1180160   \n",
      "_________________________________________________________________\n",
      "batch_normalization_8 (Batch (None, None, None, 512)   2048      \n",
      "_________________________________________________________________\n",
      "activation_8 (Activation)    (None, None, None, 512)   0         \n",
      "_________________________________________________________________\n",
      "conv2d_9 (Conv2D)            (None, None, None, 512)   2359808   \n",
      "_________________________________________________________________\n",
      "batch_normalization_9 (Batch (None, None, None, 512)   2048      \n",
      "_________________________________________________________________\n",
      "activation_9 (Activation)    (None, None, None, 512)   0         \n",
      "_________________________________________________________________\n",
      "conv2d_10 (Conv2D)           (None, None, None, 512)   2359808   \n",
      "_________________________________________________________________\n",
      "batch_normalization_10 (Batc (None, None, None, 512)   2048      \n",
      "_________________________________________________________________\n",
      "activation_10 (Activation)   (None, None, None, 512)   0         \n",
      "_________________________________________________________________\n",
      "max_pooling2d_4 (MaxPooling2 (None, None, None, 512)   0         \n",
      "_________________________________________________________________\n",
      "conv2d_11 (Conv2D)           (None, None, None, 512)   2359808   \n",
      "_________________________________________________________________\n",
      "batch_normalization_11 (Batc (None, None, None, 512)   2048      \n",
      "_________________________________________________________________\n",
      "activation_11 (Activation)   (None, None, None, 512)   0         \n",
      "_________________________________________________________________\n",
      "conv2d_12 (Conv2D)           (None, None, None, 512)   2359808   \n",
      "_________________________________________________________________\n",
      "batch_normalization_12 (Batc (None, None, None, 512)   2048      \n",
      "_________________________________________________________________\n",
      "activation_12 (Activation)   (None, None, None, 512)   0         \n",
      "_________________________________________________________________\n",
      "conv2d_13 (Conv2D)           (None, None, None, 512)   2359808   \n",
      "_________________________________________________________________\n",
      "batch_normalization_13 (Batc (None, None, None, 512)   2048      \n",
      "_________________________________________________________________\n",
      "activation_13 (Activation)   (None, None, None, 512)   0         \n",
      "_________________________________________________________________\n",
      "max_pooling2d_5 (MaxPooling2 (None, None, None, 512)   0         \n",
      "_________________________________________________________________\n",
      "up_sampling2d_1 (UpSampling2 (None, None, None, 512)   0         \n",
      "_________________________________________________________________\n",
      "conv2d_14 (Conv2D)           (None, None, None, 512)   2359808   \n",
      "_________________________________________________________________\n",
      "batch_normalization_14 (Batc (None, None, None, 512)   2048      \n",
      "_________________________________________________________________\n",
      "activation_14 (Activation)   (None, None, None, 512)   0         \n",
      "_________________________________________________________________\n",
      "conv2d_15 (Conv2D)           (None, None, None, 512)   2359808   \n",
      "_________________________________________________________________\n",
      "batch_normalization_15 (Batc (None, None, None, 512)   2048      \n",
      "_________________________________________________________________\n",
      "activation_15 (Activation)   (None, None, None, 512)   0         \n",
      "_________________________________________________________________\n",
      "conv2d_16 (Conv2D)           (None, None, None, 512)   2359808   \n",
      "_________________________________________________________________\n",
      "batch_normalization_16 (Batc (None, None, None, 512)   2048      \n",
      "_________________________________________________________________\n",
      "activation_16 (Activation)   (None, None, None, 512)   0         \n",
      "_________________________________________________________________\n",
      "up_sampling2d_2 (UpSampling2 (None, None, None, 512)   0         \n",
      "_________________________________________________________________\n",
      "conv2d_17 (Conv2D)           (None, None, None, 512)   2359808   \n",
      "_________________________________________________________________\n",
      "batch_normalization_17 (Batc (None, None, None, 512)   2048      \n",
      "_________________________________________________________________\n",
      "activation_17 (Activation)   (None, None, None, 512)   0         \n",
      "_________________________________________________________________\n",
      "conv2d_18 (Conv2D)           (None, None, None, 512)   2359808   \n",
      "_________________________________________________________________\n",
      "batch_normalization_18 (Batc (None, None, None, 512)   2048      \n",
      "_________________________________________________________________\n",
      "activation_18 (Activation)   (None, None, None, 512)   0         \n",
      "_________________________________________________________________\n",
      "conv2d_19 (Conv2D)           (None, None, None, 512)   2359808   \n",
      "_________________________________________________________________\n",
      "batch_normalization_19 (Batc (None, None, None, 512)   2048      \n",
      "_________________________________________________________________\n",
      "activation_19 (Activation)   (None, None, None, 512)   0         \n",
      "_________________________________________________________________\n",
      "up_sampling2d_3 (UpSampling2 (None, None, None, 512)   0         \n",
      "_________________________________________________________________\n",
      "conv2d_20 (Conv2D)           (None, None, None, 256)   1179904   \n",
      "_________________________________________________________________\n",
      "batch_normalization_20 (Batc (None, None, None, 256)   1024      \n",
      "_________________________________________________________________\n",
      "activation_20 (Activation)   (None, None, None, 256)   0         \n",
      "_________________________________________________________________\n",
      "conv2d_21 (Conv2D)           (None, None, None, 256)   590080    \n",
      "_________________________________________________________________\n",
      "batch_normalization_21 (Batc (None, None, None, 256)   1024      \n",
      "_________________________________________________________________\n",
      "activation_21 (Activation)   (None, None, None, 256)   0         \n",
      "_________________________________________________________________\n",
      "conv2d_22 (Conv2D)           (None, None, None, 256)   590080    \n",
      "_________________________________________________________________\n",
      "batch_normalization_22 (Batc (None, None, None, 256)   1024      \n",
      "_________________________________________________________________\n",
      "activation_22 (Activation)   (None, None, None, 256)   0         \n",
      "_________________________________________________________________\n",
      "up_sampling2d_4 (UpSampling2 (None, None, None, 256)   0         \n",
      "_________________________________________________________________\n",
      "conv2d_23 (Conv2D)           (None, None, None, 128)   295040    \n",
      "_________________________________________________________________\n",
      "batch_normalization_23 (Batc (None, None, None, 128)   512       \n",
      "_________________________________________________________________\n",
      "activation_23 (Activation)   (None, None, None, 128)   0         \n",
      "_________________________________________________________________\n",
      "conv2d_24 (Conv2D)           (None, None, None, 128)   147584    \n",
      "_________________________________________________________________\n",
      "batch_normalization_24 (Batc (None, None, None, 128)   512       \n",
      "_________________________________________________________________\n",
      "activation_24 (Activation)   (None, None, None, 128)   0         \n",
      "_________________________________________________________________\n",
      "up_sampling2d_5 (UpSampling2 (None, None, None, 128)   0         \n",
      "_________________________________________________________________\n",
      "conv2d_25 (Conv2D)           (None, None, None, 64)    73792     \n",
      "_________________________________________________________________\n",
      "batch_normalization_25 (Batc (None, None, None, 64)    256       \n",
      "_________________________________________________________________\n",
      "activation_25 (Activation)   (None, None, None, 64)    0         \n",
      "_________________________________________________________________\n",
      "conv2d_26 (Conv2D)           (None, None, None, 3)     195       \n",
      "_________________________________________________________________\n",
      "batch_normalization_26 (Batc (None, None, None, 3)     12        \n",
      "_________________________________________________________________\n",
      "activation_26 (Activation)   (None, None, None, 3)     0         \n",
      "_________________________________________________________________\n",
      "activation_27 (Activation)   (None, None, None, 3)     0         \n",
      "=================================================================\n",
      "Total params: 31,782,607\n",
      "Trainable params: 31,765,833\n",
      "Non-trainable params: 16,774\n",
      "_________________________________________________________________\n",
      "Compiled: OK\n"
     ]
    }
   ],
   "source": [
    "kernel = 3\n",
    "#------------encoder layers--------------------------------\n",
    "inputs = Input((None,None, 1))\n",
    "conv1=conv_block(inputs,kernel,filters=64)\n",
    "conv1=conv_block(conv1,kernel,filters=64)\n",
    "pool1=MaxPooling2D()(conv1)\n",
    "    \n",
    "conv2=conv_block(pool1,kernel,filters=128)\n",
    "conv2=conv_block(conv2,kernel,filters=128)\n",
    "pool2=MaxPooling2D()(conv2)\n",
    "\n",
    "conv3=conv_block(pool2,kernel,filters=256)\n",
    "conv3=conv_block(conv3,kernel,filters=256)\n",
    "conv3=conv_block(conv3,kernel,filters=256)\n",
    "pool3=MaxPooling2D()(conv3)\n",
    "\n",
    "conv4=conv_block(pool3,kernel,filters=512)\n",
    "conv4=conv_block(conv4,kernel,filters=512)\n",
    "conv4=conv_block(conv4,kernel,filters=512)\n",
    "pool4=MaxPooling2D()(conv4)\n",
    " \n",
    "conv5=conv_block(pool4,kernel,filters=512)\n",
    "conv5=conv_block(conv5,kernel,filters=512)\n",
    "conv5=conv_block(conv5,kernel,filters=512)\n",
    "pool5=MaxPooling2D()(conv5)\n",
    "\n",
    "\n",
    "#--------------------decoder layers--------------------------\n",
    "\n",
    "up6=UpSampling2D()(pool5)\n",
    "conv6=conv_block(up6,kernel,filters=512)\n",
    "conv6=conv_block(conv6,kernel,filters=512)\n",
    "conv6=conv_block(conv6,kernel,filters=512)\n",
    "\n",
    "up7=UpSampling2D()(conv6)\n",
    "conv7=conv_block(up7,kernel,filters=512)\n",
    "conv7=conv_block(conv7,kernel,filters=512)\n",
    "conv7=conv_block(conv7,kernel,filters=512)\n",
    "    \n",
    "up8=UpSampling2D()(conv7)\n",
    "conv8=conv_block(up8,kernel,filters=256)\n",
    "conv8=conv_block(conv8,kernel,filters=256)\n",
    "conv8=conv_block(conv8,kernel,filters=256)\n",
    "\n",
    "up9=UpSampling2D()(conv8)\n",
    "conv9=conv_block(up9,kernel,filters=128)\n",
    "conv9=conv_block(conv9,kernel,filters=128)\n",
    "\n",
    "up10=UpSampling2D()(conv9)\n",
    "conv10=conv_block(up10,kernel,filters=64)\n",
    "\n",
    "conv11=conv_block(conv10,kernel=1,filters=n_labels)    \n",
    "#drop11=Dropout(0.5)(conv11)\n",
    "outputs=Activation('softmax')(conv11)\n",
    "\n",
    "autoencoder=Model(inputs=[inputs], outputs=[outputs])\n",
    "\n",
    "autoencoder.summary()\n",
    "\n",
    "autoencoder.compile(loss=\"categorical_crossentropy\", optimizer='adam', metrics=[\"accuracy\"])\n",
    "print ('Compiled: OK')"
   ]
  },
  {
   "cell_type": "code",
   "execution_count": 9,
   "metadata": {},
   "outputs": [
    {
     "name": "stdout",
     "output_type": "stream",
     "text": [
      "(95, 256, 256, 1)\n",
      "(95, 256, 256, 3)\n"
     ]
    }
   ],
   "source": [
    "train_data, train_label = prep_data(path_train_input,path_train_gt)\n",
    "print train_data.shape\n",
    "print train_label.shape"
   ]
  },
  {
   "cell_type": "code",
   "execution_count": null,
   "metadata": {},
   "outputs": [
    {
     "name": "stdout",
     "output_type": "stream",
     "text": [
      "Epoch 1/2\n"
     ]
    }
   ],
   "source": [
    "#-----------------train--------------------------\n",
    "history=autoencoder.fit(train_data, train_label, batch_size=batch_size, epochs=nb_epoch, verbose=1)\n",
    "autoencoder.save_weights(weight_file)"
   ]
  },
  {
   "cell_type": "code",
   "execution_count": 16,
   "metadata": {},
   "outputs": [
    {
     "name": "stdout",
     "output_type": "stream",
     "text": [
      "(1, 640, 640, 1)\n",
      "(1, 640, 640, 3)\n",
      "(640, 640)\n"
     ]
    },
    {
     "data": {
      "image/png": "[encoded data removed]",
      "text/plain": [
       "<matplotlib.figure.Figure at 0x7f46d96c5690>"
      ]
     },
     "metadata": {},
     "output_type": "display_data"
    }
   ],
   "source": [
    "#-----------predict--------------\n",
    "autoencoder.load_weights(weight_file)\n",
    "predict_data=prep_prediction_data(path_predict)\n",
    "output = autoencoder.predict(predict_data, verbose=0)\n",
    "print(output.shape)\n",
    "\n",
    "#output_label=np.argmax(output[0],axis=-1)\n",
    "#im=output[0][:,:,1]\n",
    "im=np.argmax(output[0],axis=-1)\n",
    "np.save(path_output+'/thick_out.npy',im)\n",
    "data=np.load(path_output+'/thick_out.npy')\n",
    "print(im.shape)\n",
    "\n",
    "#save image to 8 bit\n",
    "scipy.misc.imsave(path_output+'/thick_out_8bit.png',im)\n",
    "#save image to the exat value\n",
    "img=scipy.misc.toimage(im,high=np.max(im),low=np.min(im),mode='I')\n",
    "img.save(path_output+'/thick_out_exact.png')\n",
    "\n",
    "\n",
    "plt.imshow(im)\n",
    "#plt.colorbar(fig)\n",
    "plt.axis('off')\n",
    "plt.savefig(path_output+'/thick_out_300dpi.tif',bbox_inches='tight',format='tif',dpi=300)\n",
    "plt.show()"
   ]
  },
  {
   "cell_type": "code",
   "execution_count": 17,
   "metadata": {},
   "outputs": [
    {
     "data": {
      "image/png": "[encoded data removed]",
      "text/plain": [
       "<matplotlib.figure.Figure at 0x7f46d7a9e150>"
      ]
     },
     "metadata": {},
     "output_type": "display_data"
    },
    {
     "data": {
      "image/png": "[encoded data removed]",
      "text/plain": [
       "<matplotlib.figure.Figure at 0x7f46d5ebfcd0>"
      ]
     },
     "metadata": {},
     "output_type": "display_data"
    }
   ],
   "source": [
    "import skimage\n",
    "from skimage import morphology\n",
    "from skimage.morphology import disk, square,diamond\n",
    "from skimage import measure\n",
    "from skimage.measure import label\n",
    "from skimage.color import label2rgb\n",
    "\n",
    "im=im==1\n",
    "b=np.array(im,bool)\n",
    "plt.imshow(b)\n",
    "plt.axis('off')\n",
    "plt.savefig(path_output+'/thick_inner_out_300dpi.tif',bbox_inches='tight',format='tif',dpi=300)\n",
    "plt.show()\n",
    "\n",
    "b=skimage.morphology.opening(b)\n",
    "L1=label(b)\n",
    "L2=label2rgb(L1,bg_label=0);\n",
    "plt.imshow(L2)\n",
    "plt.axis('off')\n",
    "plt.savefig(path_output+'/thick_label_300dpi.tif',bbox_inches='tight',format='tif',dpi=300)\n",
    "plt.show()\n",
    "\n",
    "#scipy.misc.imsave('/home/zoro/label_output.png',label2rgb(b,bg_color=(0,0,0)))\n",
    "#scipy.misc.imsave('/home/zoro/label_output.png',b)"
   ]
  },
  {
   "cell_type": "code",
   "execution_count": null,
   "metadata": {
    "collapsed": true
   },
   "outputs": [],
   "source": []
  }
 ],
 "metadata": {
  "anaconda-cloud": {},
  "kernelspec": {
   "display_name": "Python [conda root]",
   "language": "python",
   "name": "conda-root-py"
  },
  "language_info": {
   "codemirror_mode": {
    "name": "ipython",
    "version": 2
   },
   "file_extension": ".py",
   "mimetype": "text/x-python",
   "name": "python",
   "nbconvert_exporter": "python",
   "pygments_lexer": "ipython2",
   "version": "2.7.14"
  }
 },
 "nbformat": 4,
 "nbformat_minor": 1
}
